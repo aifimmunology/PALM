{
 "cells": [
  {
   "cell_type": "markdown",
   "id": "70932572-448e-428c-9773-64f38354736c",
   "metadata": {},
   "source": [
    "## PALM Dash App\n",
    "\n",
    "v2.0 (2021-3-3)  \n",
    "James Harvey \n",
    "\n",
    "### Purpose\n",
    "In this notebook we'll be creating a Dash App. The Dash app will be an interactive tool to play around with PALM Library that was developed by Suhas V. \n",
    "\n",
    "See PALM repo here: https://github.com/aifimmunology/PALM\n",
    "\n",
    "### Contents\n",
    "\n",
    "1. Load essential Libraries \n",
    "2. Run App \n",
    "\n",
    "\n",
    "### NOTES: \n",
    "- still need to do some setting up with packages: <br> \n",
    "    <b> NOTE: PALM has a few dependencies I need to install beforehand </b> \n",
    "    - sudo apt install cmake \n",
    "    - install.packages('nloptr') # reminder need to first install this via ubuntu: \"sudo apt-get install libnlopt-dev\"  \n",
    "    - install.packages('lme4') \n",
    "    - install.packages('ggforce') \n",
    "    - install.packages('factoextra')\n",
    "    - install.packages(\"/home/jupyter/PALM_Dash/PALM/PALM_0.1.0.tar.gz\", repos = NULL, type =\"source\") # after cloning from repo \n",
    "- could potentially utilize long_callbacks when users want to run a particular graph with different parameters \n",
    "- TODO: get these in an image, or find some other way to do this set up under the hood \n",
    "\n",
    "___ \n",
    "new set up: \n",
    "<br> \n",
    "- sudo apt install libgeos-dev\n",
    "- sudo apt install cmake \n",
    "- sudo apt-get install libnlopt-dev\n",
    "\n",
    "R console: \n",
    "- library(\"devtools\")\n",
    "- install_github(\"aifimmunology/PALMO\")\n",
    "- library(\"PALMO\")\n",
    "\n",
    "\n"
   ]
  },
  {
   "cell_type": "markdown",
   "id": "dce21daf-78c9-4d29-9448-048e4b9877b3",
   "metadata": {},
   "source": [
    "___\n",
    "### Essential Library for Dash App "
   ]
  },
  {
   "cell_type": "code",
   "execution_count": 1,
   "id": "87663871-622c-4715-aea7-f50256ec05cb",
   "metadata": {},
   "outputs": [],
   "source": [
    "from jupyter_dash.comms import _send_jupyter_config_comm_request\n",
    "_send_jupyter_config_comm_request()\n"
   ]
  },
  {
   "cell_type": "markdown",
   "id": "eb68879d-71f3-483e-97e1-09cbaccbecaa",
   "metadata": {},
   "source": [
    "___\n",
    "<b> NOTE: additional step may be needed for public HISE: \n",
    "    - download repo or datasets locally \n",
    "___ "
   ]
  },
  {
   "cell_type": "markdown",
   "id": "16332d3a-60c0-4957-803a-7c0c57c71b99",
   "metadata": {},
   "source": [
    "TODO: \n",
    "- <b> ask users format of dataset.\n",
    "       - convert files (.csv -> Rda)\n",
    "    \n",
    "- single-cell (H5 only) "
   ]
  },
  {
   "cell_type": "markdown",
   "id": "27b5ca5f-e3f0-44ee-90b8-4c7ea85d69d8",
   "metadata": {},
   "source": [
    "___ "
   ]
  },
  {
   "cell_type": "markdown",
   "id": "a7381c65-2a25-4504-8585-d110ccb65d0c",
   "metadata": {},
   "source": [
    "#### <b> Run App \n",
    "\n",
    "    This function allows you to perform analysis of longitudinal dataset. It requires longitudinal data matrix/data frame and annotation file.\n",
    "    \n",
    "The following are information about all the arguments you can pass in the below cell-block: \n",
    "\n",
    "- <b> metadata : str </b> -  A filepath to an annotation table. Table must consist column Sample (Participant sample name), PTID (Participant), Time (longitudinal time points)\n",
    "- <b> data : str </b> - A filepath for an expression matrix or data frame. Rows represents gene/proteins column represents participant samples (same as annotation table Sample column). For single cell, Single cell RNA Seurat object, if datatype is single cell RNA and Single cell ATAC genescore matrix or data frame\n",
    "- <b> datatype : str </b>-  Data input can be bulk or singlecell\n",
    "- <b> feature_set : str </b>- Variance analysis carried out on the featureSet provided such as c(\"PTID\", \"Time\", \"Sex\")\n",
    "- <b> mean_threshold : float </b>- Average expression threshold to filter lowly expressed genes Default is 0.1 (log2 scale)\n",
    "- <b> cv_threshold : float </b>- Coefficient of variation threshold to select variable and stable genes Default is 10 for single cell RNA (100*SD/mean)\n",
    "- <b> na_threshold : float </b>-  Number of NAs in data (numeric value or NULL). Default, 40% * number of columns.\n",
    "- <b> do_outlier : bool </b>- Whether to perform outlier analysis (TRUE or FALSE). Default FALSE\n",
    "- <b> z_cutoff : float </b>- |Z| cutoff threshold to find potential outliers (Eg. z_cutoff= 2, equals to Mean/SD 2)\n",
    "- <b> output_dir : str </b>-  User-defined output directory\n",
    "\n",
    "    \n",
    "\n",
    "    \n"
   ]
  },
  {
   "cell_type": "code",
   "execution_count": 3,
   "id": "c1c63f4f-9d0b-4846-bbc7-b65552945b2e",
   "metadata": {
    "tags": []
   },
   "outputs": [
    {
     "ename": "ModuleNotFoundError",
     "evalue": "No module named 'diskcache'",
     "output_type": "error",
     "traceback": [
      "\u001b[0;31m---------------------------------------------------------------------------\u001b[0m",
      "\u001b[0;31mModuleNotFoundError\u001b[0m                       Traceback (most recent call last)",
      "\u001b[0;32m/home/jupyter/PALM/dash_app/app.py\u001b[0m in \u001b[0;36m<module>\u001b[0;34m\u001b[0m\n\u001b[1;32m     12\u001b[0m \u001b[0;32mfrom\u001b[0m \u001b[0mdash\u001b[0m\u001b[0;34m.\u001b[0m\u001b[0mdependencies\u001b[0m \u001b[0;32mimport\u001b[0m \u001b[0mInput\u001b[0m\u001b[0;34m,\u001b[0m \u001b[0mOutput\u001b[0m\u001b[0;34m,\u001b[0m \u001b[0mState\u001b[0m\u001b[0;34m\u001b[0m\u001b[0;34m\u001b[0m\u001b[0m\n\u001b[1;32m     13\u001b[0m \u001b[0;32mimport\u001b[0m \u001b[0mpandas\u001b[0m \u001b[0;32mas\u001b[0m \u001b[0mpd\u001b[0m\u001b[0;34m\u001b[0m\u001b[0;34m\u001b[0m\u001b[0m\n\u001b[0;32m---> 14\u001b[0;31m \u001b[0;32mimport\u001b[0m \u001b[0mdiskcache\u001b[0m\u001b[0;34m\u001b[0m\u001b[0;34m\u001b[0m\u001b[0m\n\u001b[0m\u001b[1;32m     15\u001b[0m \u001b[0;32mfrom\u001b[0m \u001b[0mdash\u001b[0m\u001b[0;34m.\u001b[0m\u001b[0mlong_callback\u001b[0m \u001b[0;32mimport\u001b[0m \u001b[0mDiskcacheLongCallbackManager\u001b[0m\u001b[0;34m\u001b[0m\u001b[0;34m\u001b[0m\u001b[0m\n\u001b[1;32m     16\u001b[0m \u001b[0;32mimport\u001b[0m \u001b[0mdash_bootstrap_components\u001b[0m \u001b[0;32mas\u001b[0m \u001b[0mdbc\u001b[0m\u001b[0;34m\u001b[0m\u001b[0;34m\u001b[0m\u001b[0m\n",
      "\u001b[0;31mModuleNotFoundError\u001b[0m: No module named 'diskcache'"
     ]
    }
   ],
   "source": [
    "%run app.py --metadata /home/jupyter/PALM_DASHv2/PALM/data/data_Metadata.Rda \\\n",
    "    --data /home/jupyter/PALM_DASHv2/PALM/data/Olink_NPX_log2_Protein.Rda \\\n",
    "    --datatype bulk \\\n",
    "    --do_outlier True \\\n",
    "    --z_cutoff 2 \\\n",
    "    --mean_threshold 1 \\\n",
    "    --cv_threshold 5 \\\n",
    "    --na_threshold 0.4 \\\n",
    "    --feature_set PTID Time \\\n",
    "    --output_dir /home/jupyter \\\n",
    "    --method spearman"
   ]
  },
  {
   "cell_type": "markdown",
   "id": "653ea0cf-25a0-4856-b19e-8ecd2ce1b76c",
   "metadata": {},
   "source": [
    "_____\n"
   ]
  }
 ],
 "metadata": {
  "kernelspec": {
   "display_name": "Python 3 (ipykernel)",
   "language": "python",
   "name": "python3"
  },
  "language_info": {
   "codemirror_mode": {
    "name": "ipython",
    "version": 3
   },
   "file_extension": ".py",
   "mimetype": "text/x-python",
   "name": "python",
   "nbconvert_exporter": "python",
   "pygments_lexer": "ipython3",
   "version": "3.7.12"
  }
 },
 "nbformat": 4,
 "nbformat_minor": 5
}
